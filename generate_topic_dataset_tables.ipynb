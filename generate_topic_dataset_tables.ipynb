{
 "cells": [
  {
   "cell_type": "code",
   "execution_count": null,
   "metadata": {
    "collapsed": true
   },
   "outputs": [],
   "source": [
    "import ast\n",
    "import os\n",
    "import pandas as pd"
   ]
  },
  {
   "cell_type": "code",
   "execution_count": null,
   "metadata": {
    "collapsed": false
   },
   "outputs": [],
   "source": [
    "datasets = pd.read_csv('full_dataset_with_topic_comps.csv')\n",
    "topics = pd.read_csv('final_topic_ranks.csv').rename(columns={'Unnamed: 0': 'Rank'})"
   ]
  },
  {
   "cell_type": "code",
   "execution_count": null,
   "metadata": {
    "collapsed": true
   },
   "outputs": [],
   "source": [
    "def sort_topic_list(list_):\n",
    "    \n",
    "    return sorted(list_, key=(lambda x: x[1]), reverse=True)"
   ]
  },
  {
   "cell_type": "code",
   "execution_count": null,
   "metadata": {
    "collapsed": false
   },
   "outputs": [],
   "source": [
    "datasets['topic_comp_list'] = datasets['topic_comp'].map(ast.literal_eval).map(sort_topic_list)\n",
    "datasets['top_topic_id'] = datasets['topic_comp_list'].map(lambda y: y[0][0])"
   ]
  },
  {
   "cell_type": "code",
   "execution_count": null,
   "metadata": {
    "collapsed": true
   },
   "outputs": [],
   "source": [
    "def to_filename_string(list_string):\n",
    "    \n",
    "    return list_string.replace(', ', '_').replace('/', '')"
   ]
  },
  {
   "cell_type": "code",
   "execution_count": null,
   "metadata": {
    "collapsed": false
   },
   "outputs": [],
   "source": [
    "def get_datasets_in_topic(topic_id, df=datasets):\n",
    "    \n",
    "    return df[df['top_topic_id'] == topic_id].sort_values('page_views_total', ascending=False)"
   ]
  },
  {
   "cell_type": "code",
   "execution_count": null,
   "metadata": {
    "collapsed": false
   },
   "outputs": [],
   "source": [
    "for index, row in topics.iterrows():\n",
    "    \n",
    "    format_dict = {\n",
    "        'rank': '%02d' % row['Rank'],\n",
    "        'id': row['Topic ID'],\n",
    "        'topiclist': to_filename_string(row['Topic Content'])\n",
    "    }\n",
    "    data = get_datasets_in_topic(format_dict['id'])  # DataFrame with datasets classified as that topic\n",
    "    filename = 'rank{rank!s}_id{id!s}_{topiclist}.csv'.format(**format_dict)\n",
    "    data.to_csv(os.path.join('topic_datasets', filename))"
   ]
  },
  {
   "cell_type": "code",
   "execution_count": null,
   "metadata": {
    "collapsed": true
   },
   "outputs": [],
   "source": []
  }
 ],
 "metadata": {
  "anaconda-cloud": {},
  "kernelspec": {
   "display_name": "Python [Root]",
   "language": "python",
   "name": "Python [Root]"
  },
  "language_info": {
   "codemirror_mode": {
    "name": "ipython",
    "version": 2
   },
   "file_extension": ".py",
   "mimetype": "text/x-python",
   "name": "python",
   "nbconvert_exporter": "python",
   "pygments_lexer": "ipython2",
   "version": "2.7.12"
  }
 },
 "nbformat": 4,
 "nbformat_minor": 0
}
